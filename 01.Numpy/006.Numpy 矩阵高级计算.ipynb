{
 "cells": [
  {
   "cell_type": "code",
   "execution_count": 13,
   "metadata": {
    "collapsed": true
   },
   "outputs": [],
   "source": [
    "import numpy as np"
   ]
  },
  {
   "cell_type": "markdown",
   "metadata": {},
   "source": [
    "## 合并"
   ]
  },
  {
   "cell_type": "code",
   "execution_count": 19,
   "metadata": {},
   "outputs": [
    {
     "name": "stdout",
     "output_type": "stream",
     "text": [
      "[[ 3.  1.]\n",
      " [ 4.  9.]]\n",
      "________________\n",
      "[[ 4.  6.]\n",
      " [ 3.  0.]]\n"
     ]
    }
   ],
   "source": [
    "#  创建2*2 随机矩阵\n",
    "a=np.floor(10*np.random.random((2,2)))\n",
    "b=np.floor(10*np.random.random((2,2)))\n",
    "print(a)\n",
    "print(\"________________\")\n",
    "print(b)"
   ]
  },
  {
   "cell_type": "markdown",
   "metadata": {},
   "source": [
    "### 1.横向拼接  hstack"
   ]
  },
  {
   "cell_type": "code",
   "execution_count": 21,
   "metadata": {},
   "outputs": [
    {
     "name": "stdout",
     "output_type": "stream",
     "text": [
      "[[ 3.  1.  4.  6.]\n",
      " [ 4.  9.  3.  0.]]\n"
     ]
    }
   ],
   "source": [
    "print(np.hstack((a,b)))"
   ]
  },
  {
   "cell_type": "markdown",
   "metadata": {},
   "source": [
    "### 2.纵向拼接 vstack"
   ]
  },
  {
   "cell_type": "code",
   "execution_count": 22,
   "metadata": {},
   "outputs": [
    {
     "name": "stdout",
     "output_type": "stream",
     "text": [
      "[[ 3.  1.]\n",
      " [ 4.  9.]\n",
      " [ 4.  6.]\n",
      " [ 3.  0.]]\n"
     ]
    }
   ],
   "source": [
    "print(np.vstack((a,b)))"
   ]
  },
  {
   "cell_type": "markdown",
   "metadata": {},
   "source": [
    "## 拆分"
   ]
  },
  {
   "cell_type": "code",
   "execution_count": 23,
   "metadata": {},
   "outputs": [
    {
     "name": "stdout",
     "output_type": "stream",
     "text": [
      "[[ 0.  2.  6.  3.  0.  9.  0.  5.  7.  3.  0.  3.]\n",
      " [ 6.  6.  1.  7.  1.  0.  2.  1.  1.  7.  4.  9.]]\n"
     ]
    }
   ],
   "source": [
    "A=np.floor(10* np.random.random((2,12)))\n",
    "print(A)"
   ]
  },
  {
   "cell_type": "markdown",
   "metadata": {},
   "source": [
    "### 1.横向拆分"
   ]
  },
  {
   "cell_type": "code",
   "execution_count": 34,
   "metadata": {},
   "outputs": [
    {
     "name": "stdout",
     "output_type": "stream",
     "text": [
      "[array([[ 0.,  2.,  6.,  3.],\n",
      "       [ 6.,  6.,  1.,  7.]]), array([[ 0.,  9.,  0.,  5.],\n",
      "       [ 1.,  0.,  2.,  1.]]), array([[ 7.,  3.,  0.,  3.],\n",
      "       [ 1.,  7.,  4.,  9.]])]\n"
     ]
    }
   ],
   "source": [
    "print(np.hsplit(A,3))\n",
    "#每三行拆分必须整除"
   ]
  },
  {
   "cell_type": "code",
   "execution_count": 43,
   "metadata": {},
   "outputs": [
    {
     "name": "stdout",
     "output_type": "stream",
     "text": [
      "[array([[ 0.,  2.,  6.],\n",
      "       [ 6.,  6.,  1.]]), array([[ 3.],\n",
      "       [ 7.]]), array([[ 0.,  9.,  0.,  5.,  7.,  3.,  0.,  3.],\n",
      "       [ 1.,  0.,  2.,  1.,  1.,  7.,  4.,  9.]])]\n"
     ]
    }
   ],
   "source": [
    "print(np.hsplit(A,(3,4)))   #元组 刀位\n",
    "#split a after the third and fourth column\n",
    "#在第三行和第四切分"
   ]
  },
  {
   "cell_type": "markdown",
   "metadata": {},
   "source": [
    "### 2.纵向拆分"
   ]
  },
  {
   "cell_type": "code",
   "execution_count": 47,
   "metadata": {},
   "outputs": [
    {
     "name": "stdout",
     "output_type": "stream",
     "text": [
      "[array([[ 0.,  2.,  6.,  3.,  0.,  9.,  0.,  5.,  7.,  3.,  0.,  3.]]), array([[ 6.,  6.,  1.,  7.,  1.,  0.,  2.,  1.,  1.,  7.,  4.,  9.]])]\n"
     ]
    }
   ],
   "source": [
    "print(np.vsplit(A,2))"
   ]
  },
  {
   "cell_type": "code",
   "execution_count": null,
   "metadata": {
    "collapsed": true
   },
   "outputs": [],
   "source": []
  }
 ],
 "metadata": {
  "kernelspec": {
   "display_name": "Python 3",
   "language": "python",
   "name": "python3"
  },
  "language_info": {
   "codemirror_mode": {
    "name": "ipython",
    "version": 3
   },
   "file_extension": ".py",
   "mimetype": "text/x-python",
   "name": "python",
   "nbconvert_exporter": "python",
   "pygments_lexer": "ipython3",
   "version": "3.6.3"
  }
 },
 "nbformat": 4,
 "nbformat_minor": 2
}
