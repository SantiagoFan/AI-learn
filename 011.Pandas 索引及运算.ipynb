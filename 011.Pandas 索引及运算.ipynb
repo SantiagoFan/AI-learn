{
 "cells": [
  {
   "cell_type": "code",
   "execution_count": 9,
   "metadata": {},
   "outputs": [
    {
     "name": "stdout",
     "output_type": "stream",
     "text": [
      "['NDB_No', 'Shrt_Desc', 'Water_(g)', 'Energ_Kcal', 'Protein_(g)', 'Lipid_Tot_(g)', 'Ash_(g)', 'Carbohydrt_(g)', 'Fiber_TD_(g)', 'Sugar_Tot_(g)', 'Calcium_(mg)', 'Iron_(mg)', 'Magnesium_(mg)', 'Phosphorus_(mg)', 'Potassium_(mg)', 'Sodium_(mg)', 'Zinc_(mg)', 'Copper_(mg)', 'Manganese_(mg)', 'Selenium_(mcg)', 'Vit_C_(mg)', 'Thiamin_(mg)', 'Riboflavin_(mg)', 'Niacin_(mg)', 'Vit_B6_(mg)', 'Vit_B12_(mcg)', 'Vit_A_IU', 'Vit_A_RAE', 'Vit_E_(mg)', 'Vit_D_mcg', 'Vit_D_IU', 'Vit_K_(mcg)', 'FA_Sat_(g)', 'FA_Mono_(g)', 'FA_Poly_(g)', 'Cholestrl_(mg)']\n",
      "   NDB_No                 Shrt_Desc  Water_(g)  Energ_Kcal  Protein_(g)  \\\n",
      "0    1001          BUTTER WITH SALT      15.87         717         0.85   \n",
      "1    1002  BUTTER WHIPPED WITH SALT      15.87         717         0.85   \n",
      "2    1003      BUTTER OIL ANHYDROUS       0.24         876         0.28   \n",
      "\n",
      "   Lipid_Tot_(g)  Ash_(g)  Carbohydrt_(g)  Fiber_TD_(g)  Sugar_Tot_(g)  \\\n",
      "0          81.11     2.11            0.06           0.0           0.06   \n",
      "1          81.11     2.11            0.06           0.0           0.06   \n",
      "2          99.48     0.00            0.00           0.0           0.00   \n",
      "\n",
      "        ...        Vit_A_IU  Vit_A_RAE  Vit_E_(mg)  Vit_D_mcg  Vit_D_IU  \\\n",
      "0       ...          2499.0      684.0        2.32        1.5      60.0   \n",
      "1       ...          2499.0      684.0        2.32        1.5      60.0   \n",
      "2       ...          3069.0      840.0        2.80        1.8      73.0   \n",
      "\n",
      "   Vit_K_(mcg)  FA_Sat_(g)  FA_Mono_(g)  FA_Poly_(g)  Cholestrl_(mg)  \n",
      "0          7.0      51.368       21.021        3.043           215.0  \n",
      "1          7.0      50.489       23.426        3.012           219.0  \n",
      "2          8.6      61.924       28.732        3.694           256.0  \n",
      "\n",
      "[3 rows x 36 columns]\n"
     ]
    }
   ],
   "source": [
    "import pandas as pd\n",
    "food_info=pd.read_csv(\"food_info.csv\")\n",
    "col_names=food_info.columns.tolist()\n",
    "print(col_names)\n",
    "print(food_info.head(3))"
   ]
  },
  {
   "cell_type": "markdown",
   "metadata": {},
   "source": [
    "### 对列进行统一处理"
   ]
  },
  {
   "cell_type": "code",
   "execution_count": 8,
   "metadata": {},
   "outputs": [
    {
     "name": "stdout",
     "output_type": "stream",
     "text": [
      "0     2.0\n",
      "1    16.0\n",
      "2     0.0\n",
      "Name: Iron_(mg), dtype: float64\n"
     ]
    }
   ],
   "source": [
    "#print(food_info[\"Iron_(mg)\"])\n",
    "div_100=food_info[\"Iron_(mg)\"]*100\n",
    "print(div_100[:3])"
   ]
  },
  {
   "cell_type": "markdown",
   "metadata": {},
   "source": [
    "### 列与列运算做为新的列（特征）"
   ]
  },
  {
   "cell_type": "code",
   "execution_count": 19,
   "metadata": {},
   "outputs": [
    {
     "name": "stdout",
     "output_type": "stream",
     "text": [
      "(8618, 36)\n",
      "(8618, 37)\n"
     ]
    }
   ],
   "source": [
    "water_energy=food_info[\"Water_(g)\"]* food_info[\"Energ_Kcal\"]\n",
    "print(food_info.shape)\n",
    "food_info[\"Iron_(g)\"]=water_energy\n",
    "print(food_info.shape)"
   ]
  },
  {
   "cell_type": "code",
   "execution_count": 15,
   "metadata": {},
   "outputs": [
    {
     "name": "stdout",
     "output_type": "stream",
     "text": [
      "0    11378.79\n",
      "1    11378.79\n",
      "2      210.24\n",
      "dtype: float64\n"
     ]
    }
   ],
   "source": [
    "print(water_energy[:3])"
   ]
  },
  {
   "cell_type": "markdown",
   "metadata": {},
   "source": [
    "### 对数据进行排序"
   ]
  },
  {
   "cell_type": "code",
   "execution_count": 28,
   "metadata": {},
   "outputs": [
    {
     "name": "stdout",
     "output_type": "stream",
     "text": [
      "760    0.0\n",
      "635    0.0\n",
      "638    0.0\n",
      "Name: Sodium_(mg), dtype: float64\n",
      "________________________________________\n",
      "276     38758.0\n",
      "5814    27360.0\n",
      "6192    26050.0\n",
      "Name: Sodium_(mg), dtype: float64\n"
     ]
    }
   ],
   "source": [
    "#对数据进行升序排序 inplace 制定新排序是在原数据基础上排序，还是生成新的数据\n",
    "\n",
    "food_info.sort_values(\"Sodium_(mg)\",inplace=True)\n",
    "print(food_info[\"Sodium_(mg)\"][:3])\n",
    "print(\"_\"*40)\n",
    "#ascending 指定 是否为升序 默认为True\n",
    "food_info.sort_values(\"Sodium_(mg)\",inplace=True,ascending=False)\n",
    "print(food_info[\"Sodium_(mg)\"][:3])"
   ]
  },
  {
   "cell_type": "code",
   "execution_count": null,
   "metadata": {
    "collapsed": true
   },
   "outputs": [],
   "source": []
  }
 ],
 "metadata": {
  "kernelspec": {
   "display_name": "Python 3",
   "language": "python",
   "name": "python3"
  },
  "language_info": {
   "codemirror_mode": {
    "name": "ipython",
    "version": 3
   },
   "file_extension": ".py",
   "mimetype": "text/x-python",
   "name": "python",
   "nbconvert_exporter": "python",
   "pygments_lexer": "ipython3",
   "version": "3.6.3"
  }
 },
 "nbformat": 4,
 "nbformat_minor": 2
}
