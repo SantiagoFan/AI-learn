{
 "cells": [
  {
   "cell_type": "code",
   "execution_count": 25,
   "metadata": {},
   "outputs": [
    {
     "name": "stdout",
     "output_type": "stream",
     "text": [
      "<class 'pandas.core.series.Series'>\n"
     ]
    }
   ],
   "source": [
    "import pandas as pd\n",
    "fandango= pd.read_csv('fandango_score_comparison.csv')\n",
    "series_film= fandango[\"FILM\"]\n",
    "series_rt=fandango[\"RottenTomatoes\"]\n",
    "print(type(series_film))"
   ]
  },
  {
   "cell_type": "markdown",
   "metadata": {},
   "source": [
    "###  DataFrame 内部 包含多个 Series"
   ]
  },
  {
   "cell_type": "code",
   "execution_count": 7,
   "metadata": {},
   "outputs": [
    {
     "name": "stdout",
     "output_type": "stream",
     "text": [
      "0    Avengers: Age of Ultron (2015)\n",
      "1                 Cinderella (2015)\n",
      "2                    Ant-Man (2015)\n",
      "3            Do You Believe? (2015)\n",
      "4     Hot Tub Time Machine 2 (2015)\n",
      "Name: FILM, dtype: object\n"
     ]
    }
   ],
   "source": [
    "print(series_film[0:5])"
   ]
  },
  {
   "cell_type": "code",
   "execution_count": 19,
   "metadata": {},
   "outputs": [
    {
     "name": "stdout",
     "output_type": "stream",
     "text": [
      "<class 'numpy.ndarray'>\n"
     ]
    }
   ],
   "source": [
    "print(type(series_film.values))"
   ]
  },
  {
   "cell_type": "code",
   "execution_count": 26,
   "metadata": {},
   "outputs": [
    {
     "data": {
      "text/plain": [
       "The Gunman (2015)    17\n",
       "It Follows (2015)    96\n",
       "dtype: int64"
      ]
     },
     "execution_count": 26,
     "metadata": {},
     "output_type": "execute_result"
    }
   ],
   "source": [
    "# 引入 Series\n",
    "from pandas import Series\n",
    "film_names=series_film.values\n",
    "rt_scores=series_rt.values\n",
    "series_custom= Series(rt_scores,index=film_names)\n",
    "series_custom[[\"The Gunman (2015)\",\"It Follows (2015)\"]]"
   ]
  },
  {
   "cell_type": "markdown",
   "metadata": {},
   "source": [
    "### 求两个Series 的平均值"
   ]
  },
  {
   "cell_type": "code",
   "execution_count": 36,
   "metadata": {},
   "outputs": [
    {
     "name": "stdout",
     "output_type": "stream",
     "text": [
      "FILM\n",
      "Avengers: Age of Ultron (2015)    80.0\n",
      "Cinderella (2015)                 82.5\n",
      "Ant-Man (2015)                    85.0\n",
      "Do You Believe? (2015)            51.0\n",
      "Hot Tub Time Machine 2 (2015)     21.0\n",
      "The Water Diviner (2015)          62.5\n",
      "dtype: float64\n",
      "<class 'pandas.core.series.Series'>\n"
     ]
    }
   ],
   "source": [
    "rt_critics=Series(fandango[\"RottenTomatoes\"].values,index=fandango[\"FILM\"])\n",
    "rt_users=Series(fandango[\"RottenTomatoes_User\"].values,index=fandango[\"FILM\"])\n",
    "\n",
    "rt_mean=(rt_critics+rt_users)/2\n",
    "print(rt_mean[:6])\n",
    "print(type(rt_mean))"
   ]
  },
  {
   "cell_type": "markdown",
   "metadata": {},
   "source": [
    "### 重建DataFram 索引   用字符串\n",
    "####  rebuild index of DataFrame by String"
   ]
  },
  {
   "cell_type": "code",
   "execution_count": 43,
   "metadata": {},
   "outputs": [
    {
     "name": "stdout",
     "output_type": "stream",
     "text": [
      "Index(['Avengers: Age of Ultron (2015)', 'Cinderella (2015)', 'Ant-Man (2015)',\n",
      "       'Do You Believe? (2015)', 'Hot Tub Time Machine 2 (2015)',\n",
      "       'The Water Diviner (2015)', 'Irrational Man (2015)', 'Top Five (2014)',\n",
      "       'Shaun the Sheep Movie (2015)', 'Love & Mercy (2015)',\n",
      "       ...\n",
      "       'The Woman In Black 2 Angel of Death (2015)', 'Danny Collins (2015)',\n",
      "       'Spare Parts (2015)', 'Serena (2015)', 'Inside Out (2015)',\n",
      "       'Mr. Holmes (2015)', ''71 (2015)', 'Two Days, One Night (2014)',\n",
      "       'Gett: The Trial of Viviane Amsalem (2015)',\n",
      "       'Kumiko, The Treasure Hunter (2015)'],\n",
      "      dtype='object', name='FILM', length=146)\n"
     ]
    }
   ],
   "source": [
    "fandango_films=fandango.set_index('FILM',drop=False)\n",
    "fandango_films.head()\n",
    "print(fandango_films.index)"
   ]
  },
  {
   "cell_type": "markdown",
   "metadata": {},
   "source": [
    "### 字符串索引依然可以使用切片"
   ]
  },
  {
   "cell_type": "code",
   "execution_count": 46,
   "metadata": {},
   "outputs": [
    {
     "data": {
      "text/html": [
       "<div>\n",
       "<style>\n",
       "    .dataframe thead tr:only-child th {\n",
       "        text-align: right;\n",
       "    }\n",
       "\n",
       "    .dataframe thead th {\n",
       "        text-align: left;\n",
       "    }\n",
       "\n",
       "    .dataframe tbody tr th {\n",
       "        vertical-align: top;\n",
       "    }\n",
       "</style>\n",
       "<table border=\"1\" class=\"dataframe\">\n",
       "  <thead>\n",
       "    <tr style=\"text-align: right;\">\n",
       "      <th></th>\n",
       "      <th>FILM</th>\n",
       "      <th>RottenTomatoes</th>\n",
       "      <th>RottenTomatoes_User</th>\n",
       "      <th>Metacritic</th>\n",
       "      <th>Metacritic_User</th>\n",
       "      <th>IMDB</th>\n",
       "      <th>Fandango_Stars</th>\n",
       "      <th>Fandango_Ratingvalue</th>\n",
       "      <th>RT_norm</th>\n",
       "      <th>RT_user_norm</th>\n",
       "      <th>...</th>\n",
       "      <th>IMDB_norm</th>\n",
       "      <th>RT_norm_round</th>\n",
       "      <th>RT_user_norm_round</th>\n",
       "      <th>Metacritic_norm_round</th>\n",
       "      <th>Metacritic_user_norm_round</th>\n",
       "      <th>IMDB_norm_round</th>\n",
       "      <th>Metacritic_user_vote_count</th>\n",
       "      <th>IMDB_user_vote_count</th>\n",
       "      <th>Fandango_votes</th>\n",
       "      <th>Fandango_Difference</th>\n",
       "    </tr>\n",
       "    <tr>\n",
       "      <th>FILM</th>\n",
       "      <th></th>\n",
       "      <th></th>\n",
       "      <th></th>\n",
       "      <th></th>\n",
       "      <th></th>\n",
       "      <th></th>\n",
       "      <th></th>\n",
       "      <th></th>\n",
       "      <th></th>\n",
       "      <th></th>\n",
       "      <th></th>\n",
       "      <th></th>\n",
       "      <th></th>\n",
       "      <th></th>\n",
       "      <th></th>\n",
       "      <th></th>\n",
       "      <th></th>\n",
       "      <th></th>\n",
       "      <th></th>\n",
       "      <th></th>\n",
       "      <th></th>\n",
       "    </tr>\n",
       "  </thead>\n",
       "  <tbody>\n",
       "    <tr>\n",
       "      <th>Avengers: Age of Ultron (2015)</th>\n",
       "      <td>Avengers: Age of Ultron (2015)</td>\n",
       "      <td>74</td>\n",
       "      <td>86</td>\n",
       "      <td>66</td>\n",
       "      <td>7.1</td>\n",
       "      <td>7.8</td>\n",
       "      <td>5.0</td>\n",
       "      <td>4.5</td>\n",
       "      <td>3.70</td>\n",
       "      <td>4.3</td>\n",
       "      <td>...</td>\n",
       "      <td>3.90</td>\n",
       "      <td>3.5</td>\n",
       "      <td>4.5</td>\n",
       "      <td>3.5</td>\n",
       "      <td>3.5</td>\n",
       "      <td>4.0</td>\n",
       "      <td>1330</td>\n",
       "      <td>271107</td>\n",
       "      <td>14846</td>\n",
       "      <td>0.5</td>\n",
       "    </tr>\n",
       "    <tr>\n",
       "      <th>Cinderella (2015)</th>\n",
       "      <td>Cinderella (2015)</td>\n",
       "      <td>85</td>\n",
       "      <td>80</td>\n",
       "      <td>67</td>\n",
       "      <td>7.5</td>\n",
       "      <td>7.1</td>\n",
       "      <td>5.0</td>\n",
       "      <td>4.5</td>\n",
       "      <td>4.25</td>\n",
       "      <td>4.0</td>\n",
       "      <td>...</td>\n",
       "      <td>3.55</td>\n",
       "      <td>4.5</td>\n",
       "      <td>4.0</td>\n",
       "      <td>3.5</td>\n",
       "      <td>4.0</td>\n",
       "      <td>3.5</td>\n",
       "      <td>249</td>\n",
       "      <td>65709</td>\n",
       "      <td>12640</td>\n",
       "      <td>0.5</td>\n",
       "    </tr>\n",
       "    <tr>\n",
       "      <th>Ant-Man (2015)</th>\n",
       "      <td>Ant-Man (2015)</td>\n",
       "      <td>80</td>\n",
       "      <td>90</td>\n",
       "      <td>64</td>\n",
       "      <td>8.1</td>\n",
       "      <td>7.8</td>\n",
       "      <td>5.0</td>\n",
       "      <td>4.5</td>\n",
       "      <td>4.00</td>\n",
       "      <td>4.5</td>\n",
       "      <td>...</td>\n",
       "      <td>3.90</td>\n",
       "      <td>4.0</td>\n",
       "      <td>4.5</td>\n",
       "      <td>3.0</td>\n",
       "      <td>4.0</td>\n",
       "      <td>4.0</td>\n",
       "      <td>627</td>\n",
       "      <td>103660</td>\n",
       "      <td>12055</td>\n",
       "      <td>0.5</td>\n",
       "    </tr>\n",
       "  </tbody>\n",
       "</table>\n",
       "<p>3 rows × 22 columns</p>\n",
       "</div>"
      ],
      "text/plain": [
       "                                                          FILM  \\\n",
       "FILM                                                             \n",
       "Avengers: Age of Ultron (2015)  Avengers: Age of Ultron (2015)   \n",
       "Cinderella (2015)                            Cinderella (2015)   \n",
       "Ant-Man (2015)                                  Ant-Man (2015)   \n",
       "\n",
       "                                RottenTomatoes  RottenTomatoes_User  \\\n",
       "FILM                                                                  \n",
       "Avengers: Age of Ultron (2015)              74                   86   \n",
       "Cinderella (2015)                           85                   80   \n",
       "Ant-Man (2015)                              80                   90   \n",
       "\n",
       "                                Metacritic  Metacritic_User  IMDB  \\\n",
       "FILM                                                                \n",
       "Avengers: Age of Ultron (2015)          66              7.1   7.8   \n",
       "Cinderella (2015)                       67              7.5   7.1   \n",
       "Ant-Man (2015)                          64              8.1   7.8   \n",
       "\n",
       "                                Fandango_Stars  Fandango_Ratingvalue  RT_norm  \\\n",
       "FILM                                                                            \n",
       "Avengers: Age of Ultron (2015)             5.0                   4.5     3.70   \n",
       "Cinderella (2015)                          5.0                   4.5     4.25   \n",
       "Ant-Man (2015)                             5.0                   4.5     4.00   \n",
       "\n",
       "                                RT_user_norm         ...           IMDB_norm  \\\n",
       "FILM                                                 ...                       \n",
       "Avengers: Age of Ultron (2015)           4.3         ...                3.90   \n",
       "Cinderella (2015)                        4.0         ...                3.55   \n",
       "Ant-Man (2015)                           4.5         ...                3.90   \n",
       "\n",
       "                                RT_norm_round  RT_user_norm_round  \\\n",
       "FILM                                                                \n",
       "Avengers: Age of Ultron (2015)            3.5                 4.5   \n",
       "Cinderella (2015)                         4.5                 4.0   \n",
       "Ant-Man (2015)                            4.0                 4.5   \n",
       "\n",
       "                                Metacritic_norm_round  \\\n",
       "FILM                                                    \n",
       "Avengers: Age of Ultron (2015)                    3.5   \n",
       "Cinderella (2015)                                 3.5   \n",
       "Ant-Man (2015)                                    3.0   \n",
       "\n",
       "                                Metacritic_user_norm_round  IMDB_norm_round  \\\n",
       "FILM                                                                          \n",
       "Avengers: Age of Ultron (2015)                         3.5              4.0   \n",
       "Cinderella (2015)                                      4.0              3.5   \n",
       "Ant-Man (2015)                                         4.0              4.0   \n",
       "\n",
       "                                Metacritic_user_vote_count  \\\n",
       "FILM                                                         \n",
       "Avengers: Age of Ultron (2015)                        1330   \n",
       "Cinderella (2015)                                      249   \n",
       "Ant-Man (2015)                                         627   \n",
       "\n",
       "                                IMDB_user_vote_count  Fandango_votes  \\\n",
       "FILM                                                                   \n",
       "Avengers: Age of Ultron (2015)                271107           14846   \n",
       "Cinderella (2015)                              65709           12640   \n",
       "Ant-Man (2015)                                103660           12055   \n",
       "\n",
       "                                Fandango_Difference  \n",
       "FILM                                                 \n",
       "Avengers: Age of Ultron (2015)                  0.5  \n",
       "Cinderella (2015)                               0.5  \n",
       "Ant-Man (2015)                                  0.5  \n",
       "\n",
       "[3 rows x 22 columns]"
      ]
     },
     "execution_count": 46,
     "metadata": {},
     "output_type": "execute_result"
    }
   ],
   "source": [
    "fandango_films[\"Avengers: Age of Ultron (2015)\":\"Ant-Man (2015)\"]"
   ]
  },
  {
   "cell_type": "markdown",
   "metadata": {},
   "source": [
    "#### 字符串索引依然可以使用定位"
   ]
  },
  {
   "cell_type": "code",
   "execution_count": 52,
   "metadata": {},
   "outputs": [
    {
     "data": {
      "text/plain": [
       "7.7999999999999998"
      ]
     },
     "execution_count": 52,
     "metadata": {},
     "output_type": "execute_result"
    }
   ],
   "source": [
    "fandango_films.loc[\"Avengers: Age of Ultron (2015)\",\"IMDB\"]"
   ]
  },
  {
   "cell_type": "markdown",
   "metadata": {},
   "source": [
    "### set_index 相当于有了两个索引  原来的数值索引和新索引都可以用"
   ]
  },
  {
   "cell_type": "markdown",
   "metadata": {},
   "source": [
    "## apply 匿名函数"
   ]
  },
  {
   "cell_type": "markdown",
   "metadata": {},
   "source": [
    "### .apply(lambda x:np.std(x),axis=1)"
   ]
  },
  {
   "cell_type": "code",
   "execution_count": null,
   "metadata": {
    "collapsed": true
   },
   "outputs": [],
   "source": []
  }
 ],
 "metadata": {
  "kernelspec": {
   "display_name": "Python 3",
   "language": "python",
   "name": "python3"
  },
  "language_info": {
   "codemirror_mode": {
    "name": "ipython",
    "version": 3
   },
   "file_extension": ".py",
   "mimetype": "text/x-python",
   "name": "python",
   "nbconvert_exporter": "python",
   "pygments_lexer": "ipython3",
   "version": "3.6.3"
  }
 },
 "nbformat": 4,
 "nbformat_minor": 2
}
