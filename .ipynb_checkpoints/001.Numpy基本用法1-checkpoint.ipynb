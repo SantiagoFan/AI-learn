{
 "cells": [
  {
   "cell_type": "code",
   "execution_count": 4,
   "metadata": {},
   "outputs": [],
   "source": [
    "import numpy\n",
    "\n",
    "doc = numpy.genfromtxt(\"doc.txt\",delimiter=\",\",dtype=\"str\")"
   ]
  },
  {
   "cell_type": "code",
   "execution_count": 30,
   "metadata": {},
   "outputs": [
    {
     "name": "stdout",
     "output_type": "stream",
     "text": [
      "<class 'numpy.ndarray'>\n",
      "[['1921' 'A' '152616199001065116']\n",
      " ['1923' 'B' '18289201']]\n",
      "B\n"
     ]
    }
   ],
   "source": [
    "print(type(doc))\n",
    "print(doc)\n",
    "print(doc[1,1])\n"
   ]
  },
  {
   "cell_type": "code",
   "execution_count": 23,
   "metadata": {},
   "outputs": [
    {
     "name": "stdout",
     "output_type": "stream",
     "text": [
      "(5,)\n",
      "(3,)\n",
      "(3, 2)\n",
      "[[1 2]\n",
      " [3 4]\n",
      " [3 5]]\n"
     ]
    }
   ],
   "source": [
    "vector=numpy.array([3,5,6,7,8])\n",
    "marry=numpy.array([[1,2],[3,4],1])\n",
    "marry2=numpy.array([[1,2],[3,4],[3,5]])\n",
    "print(vector.shape)\n",
    "print(marry.shape)\n",
    "print(marry2.shape)\n",
    "print(marry2)"
   ]
  },
  {
   "cell_type": "code",
   "execution_count": 27,
   "metadata": {},
   "outputs": [
    {
     "name": "stdout",
     "output_type": "stream",
     "text": [
      "[1 2 3 5]\n"
     ]
    },
    {
     "data": {
      "text/plain": [
       "dtype('int32')"
      ]
     },
     "execution_count": 27,
     "metadata": {},
     "output_type": "execute_result"
    }
   ],
   "source": [
    "number=numpy.array([1,2,3,5])\n",
    "print(number)\n",
    "number.dtype\n"
   ]
  },
  {
   "cell_type": "code",
   "execution_count": 31,
   "metadata": {},
   "outputs": [
    {
     "name": "stdout",
     "output_type": "stream",
     "text": [
      "[1 2 3 5]\n"
     ]
    }
   ],
   "source": [
    "numbers=numpy.array([1,2,3,4,5])\n",
    "print(number)"
   ]
  },
  {
   "cell_type": "code",
   "execution_count": 38,
   "metadata": {},
   "outputs": [
    {
     "name": "stdout",
     "output_type": "stream",
     "text": [
      "[2 3]\n",
      "[2]\n"
     ]
    }
   ],
   "source": [
    "#切片练习\n",
    "print(numbers[1:3])#左闭右开\n",
    "print(numbers[1:2])"
   ]
  },
  {
   "cell_type": "code",
   "execution_count": 44,
   "metadata": {},
   "outputs": [
    {
     "name": "stdout",
     "output_type": "stream",
     "text": [
      "[[ 5 15 20 25]\n",
      " [30 35 40 45]\n",
      " [50 55 60 65]]\n"
     ]
    }
   ],
   "source": [
    "#多维切边练习\n",
    "mub3=numpy.array([\n",
    "    [5,15,20,25],\n",
    "    [30,35,40,45],\n",
    "    [50,55,60,65]\n",
    "])\n",
    "print(mub3)"
   ]
  },
  {
   "cell_type": "code",
   "execution_count": 52,
   "metadata": {},
   "outputs": [
    {
     "name": "stdout",
     "output_type": "stream",
     "text": [
      "[20 40 60]\n",
      "[[15 20]\n",
      " [35 40]\n",
      " [55 60]]\n"
     ]
    }
   ],
   "source": [
    "#全部行的第3列\n",
    "print(mub3[:,2])\n",
    "#全部行的2-3列\n",
    "print(mub3[:,1:3])"
   ]
  }
 ],
 "metadata": {
  "kernelspec": {
   "display_name": "Python 3",
   "language": "python",
   "name": "python3"
  },
  "language_info": {
   "codemirror_mode": {
    "name": "ipython",
    "version": 3
   },
   "file_extension": ".py",
   "mimetype": "text/x-python",
   "name": "python",
   "nbconvert_exporter": "python",
   "pygments_lexer": "ipython3",
   "version": "3.6.3"
  }
 },
 "nbformat": 4,
 "nbformat_minor": 2
}
